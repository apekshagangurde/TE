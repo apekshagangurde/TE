{
 "cells": [
  {
   "cell_type": "markdown",
   "id": "06f7bb01",
   "metadata": {},
   "source": [
    "## Name of the practical: Data Wrangling I\n",
    "<br><br>\n",
    "**Perform the following operations using Python on any open source dataset (e.g., data.csv)**\n",
    "1. Import all the required Python Libraries.\n",
    "2. Locate open source data from the web (e.g., https://www.kaggle.com). Provide a clear\n",
    "description of the data and its source (i.e., URL of the web site).\n",
    "3. Load the Dataset into pandas dataframe.\n",
    "4. Data Preprocessing: check for missing values in the data using pandas isnull(), describe()\n",
    "function to get some initial statistics. Provide variable descriptions. Types of variables etc.\n",
    "Check the dimensions of the data frame.\n",
    "5. Data Formatting and Data Normalization: Summarize the types of variables by checking the\n",
    "data types (i.e., character, numeric, integer, factor, and logical) of the variables in the data set.\n",
    "If variables are not in the correct data type, apply proper type conversions.\n",
    "6. Turn categorical variables into quantitative variables in Python.\n",
    "In addition to the codes and outputs, explain every operation that you do in the above steps and explain\n",
    "everything that you do to import/read/scrape the data set."
   ]
  },
  {
   "cell_type": "markdown",
   "id": "c989f504",
   "metadata": {},
   "source": [
    "### 1. Import all the required Python Libraries."
   ]
  },
  {
   "cell_type": "code",
   "execution_count": 1,
   "id": "39342b1f",
   "metadata": {},
   "outputs": [],
   "source": [
    "import pandas as pd"
   ]
  },
  {
   "cell_type": "code",
   "execution_count": null,
   "id": "660ca2b8",
   "metadata": {},
   "outputs": [],
   "source": []
  }
 ],
 "metadata": {
  "kernelspec": {
   "display_name": "Python 3 (ipykernel)",
   "language": "python",
   "name": "python3"
  },
  "language_info": {
   "codemirror_mode": {
    "name": "ipython",
    "version": 3
   },
   "file_extension": ".py",
   "mimetype": "text/x-python",
   "name": "python",
   "nbconvert_exporter": "python",
   "pygments_lexer": "ipython3",
   "version": "3.11.8"
  }
 },
 "nbformat": 4,
 "nbformat_minor": 5
}
