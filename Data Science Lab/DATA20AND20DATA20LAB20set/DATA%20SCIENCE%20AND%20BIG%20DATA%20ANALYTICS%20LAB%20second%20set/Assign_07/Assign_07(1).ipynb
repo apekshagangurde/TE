{
 "cells": [
  {
   "cell_type": "code",
   "execution_count": 1,
   "id": "8a7a8eb9",
   "metadata": {},
   "outputs": [],
   "source": [
    "import nltk\n",
    "#https://towardsdatascience.com/intro-to-nltk-for-nlp-with-python-87da6670dde"
   ]
  },
  {
   "cell_type": "code",
   "execution_count": null,
   "id": "d0bfa43a",
   "metadata": {},
   "outputs": [],
   "source": [
    "nltk.download()"
   ]
  },
  {
   "cell_type": "code",
   "execution_count": null,
   "id": "db575411",
   "metadata": {},
   "outputs": [],
   "source": [
    "from nltk import word_tokenize, sent_tokenize"
   ]
  }
 ],
 "metadata": {
  "kernelspec": {
   "display_name": "Python 3 (ipykernel)",
   "language": "python",
   "name": "python3"
  },
  "language_info": {
   "codemirror_mode": {
    "name": "ipython",
    "version": 3
   },
   "file_extension": ".py",
   "mimetype": "text/x-python",
   "name": "python",
   "nbconvert_exporter": "python",
   "pygments_lexer": "ipython3",
   "version": "3.8.10"
  }
 },
 "nbformat": 4,
 "nbformat_minor": 5
}
