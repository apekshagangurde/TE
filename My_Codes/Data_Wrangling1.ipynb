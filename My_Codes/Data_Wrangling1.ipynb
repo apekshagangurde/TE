{
 "cells": [
  {
   "cell_type": "code",
   "execution_count": 1,
   "id": "57b3d75b-016a-4c78-94c4-47ba65225031",
   "metadata": {},
   "outputs": [],
   "source": [
    "#importing Libraries\n",
    "import pandas as pd\n",
    "import numpy as np"
   ]
  },
  {
   "cell_type": "code",
   "execution_count": 3,
   "id": "49feda63-2705-4972-b936-a42e1328061c",
   "metadata": {},
   "outputs": [],
   "source": [
    "#https://www.kaggle.com/datasets/forgetabhi/top-10000-books-good-reads-dataset?resource=download\n",
    "data_frame = pd.read_csv('books.csv')"
   ]
  },
  {
   "cell_type": "code",
   "execution_count": 9,
   "id": "7d677f73-e9eb-4e1c-b54b-bbfc2b036ba1",
   "metadata": {},
   "outputs": [
    {
     "data": {
      "text/html": [
       "<div>\n",
       "<style scoped>\n",
       "    .dataframe tbody tr th:only-of-type {\n",
       "        vertical-align: middle;\n",
       "    }\n",
       "\n",
       "    .dataframe tbody tr th {\n",
       "        vertical-align: top;\n",
       "    }\n",
       "\n",
       "    .dataframe thead th {\n",
       "        text-align: right;\n",
       "    }\n",
       "</style>\n",
       "<table border=\"1\" class=\"dataframe\">\n",
       "  <thead>\n",
       "    <tr style=\"text-align: right;\">\n",
       "      <th></th>\n",
       "      <th>bookTitle</th>\n",
       "      <th>authorName</th>\n",
       "      <th>average_rating</th>\n",
       "      <th>num_ratings</th>\n",
       "    </tr>\n",
       "  </thead>\n",
       "  <tbody>\n",
       "    <tr>\n",
       "      <th>0</th>\n",
       "      <td>The Hunger Games (The Hunger Games, #1)</td>\n",
       "      <td>Suzanne Collins</td>\n",
       "      <td>4.34</td>\n",
       "      <td>8,693,386</td>\n",
       "    </tr>\n",
       "    <tr>\n",
       "      <th>1</th>\n",
       "      <td>Harry Potter and the Order of the Phoenix (Har...</td>\n",
       "      <td>J.K. Rowling</td>\n",
       "      <td>4.50</td>\n",
       "      <td>3,393,240</td>\n",
       "    </tr>\n",
       "  </tbody>\n",
       "</table>\n",
       "</div>"
      ],
      "text/plain": [
       "                                           bookTitle       authorName  \\\n",
       "0            The Hunger Games (The Hunger Games, #1)  Suzanne Collins   \n",
       "1  Harry Potter and the Order of the Phoenix (Har...     J.K. Rowling   \n",
       "\n",
       "   average_rating num_ratings  \n",
       "0            4.34   8,693,386  \n",
       "1            4.50   3,393,240  "
      ]
     },
     "execution_count": 9,
     "metadata": {},
     "output_type": "execute_result"
    }
   ],
   "source": [
    "#Getting Head and tail of data\n",
    "data_frame.head(2)"
   ]
  },
  {
   "cell_type": "code",
   "execution_count": 8,
   "id": "fd28226e-51c9-431d-90f0-9272f37ebb38",
   "metadata": {},
   "outputs": [
    {
     "data": {
      "text/html": [
       "<div>\n",
       "<style scoped>\n",
       "    .dataframe tbody tr th:only-of-type {\n",
       "        vertical-align: middle;\n",
       "    }\n",
       "\n",
       "    .dataframe tbody tr th {\n",
       "        vertical-align: top;\n",
       "    }\n",
       "\n",
       "    .dataframe thead th {\n",
       "        text-align: right;\n",
       "    }\n",
       "</style>\n",
       "<table border=\"1\" class=\"dataframe\">\n",
       "  <thead>\n",
       "    <tr style=\"text-align: right;\">\n",
       "      <th></th>\n",
       "      <th>bookTitle</th>\n",
       "      <th>authorName</th>\n",
       "      <th>average_rating</th>\n",
       "      <th>num_ratings</th>\n",
       "    </tr>\n",
       "  </thead>\n",
       "  <tbody>\n",
       "    <tr>\n",
       "      <th>9998</th>\n",
       "      <td>The Heights of Perdition (The Divine Space Pir...</td>\n",
       "      <td>C.S.  Johnson</td>\n",
       "      <td>4.10</td>\n",
       "      <td>113</td>\n",
       "    </tr>\n",
       "    <tr>\n",
       "      <th>9999</th>\n",
       "      <td>The Timingila</td>\n",
       "      <td>Shon Mehta</td>\n",
       "      <td>4.24</td>\n",
       "      <td>25</td>\n",
       "    </tr>\n",
       "  </tbody>\n",
       "</table>\n",
       "</div>"
      ],
      "text/plain": [
       "                                              bookTitle     authorName  \\\n",
       "9998  The Heights of Perdition (The Divine Space Pir...  C.S.  Johnson   \n",
       "9999                                      The Timingila     Shon Mehta   \n",
       "\n",
       "      average_rating num_ratings  \n",
       "9998            4.10         113  \n",
       "9999            4.24          25  "
      ]
     },
     "execution_count": 8,
     "metadata": {},
     "output_type": "execute_result"
    }
   ],
   "source": [
    "data_frame.tail(2)"
   ]
  },
  {
   "cell_type": "code",
   "execution_count": 11,
   "id": "79933503-de32-42a6-9a5e-0b69f0c87ef7",
   "metadata": {},
   "outputs": [
    {
     "name": "stdout",
     "output_type": "stream",
     "text": [
      "<class 'pandas.core.frame.DataFrame'>\n",
      "RangeIndex: 10000 entries, 0 to 9999\n",
      "Data columns (total 4 columns):\n",
      " #   Column          Non-Null Count  Dtype  \n",
      "---  ------          --------------  -----  \n",
      " 0   bookTitle       10000 non-null  object \n",
      " 1   authorName      10000 non-null  object \n",
      " 2   average_rating  9996 non-null   float64\n",
      " 3   num_ratings     9996 non-null   object \n",
      "dtypes: float64(1), object(3)\n",
      "memory usage: 312.6+ KB\n"
     ]
    }
   ],
   "source": [
    "#getting information of data set like number of entries, columns etc.\n",
    "data_frame.info()"
   ]
  },
  {
   "cell_type": "code",
   "execution_count": 12,
   "id": "f29c4aff-0257-4650-976c-a66626d7fb94",
   "metadata": {},
   "outputs": [
    {
     "data": {
      "text/html": [
       "<div>\n",
       "<style scoped>\n",
       "    .dataframe tbody tr th:only-of-type {\n",
       "        vertical-align: middle;\n",
       "    }\n",
       "\n",
       "    .dataframe tbody tr th {\n",
       "        vertical-align: top;\n",
       "    }\n",
       "\n",
       "    .dataframe thead th {\n",
       "        text-align: right;\n",
       "    }\n",
       "</style>\n",
       "<table border=\"1\" class=\"dataframe\">\n",
       "  <thead>\n",
       "    <tr style=\"text-align: right;\">\n",
       "      <th></th>\n",
       "      <th>average_rating</th>\n",
       "    </tr>\n",
       "  </thead>\n",
       "  <tbody>\n",
       "    <tr>\n",
       "      <th>count</th>\n",
       "      <td>9996.000000</td>\n",
       "    </tr>\n",
       "    <tr>\n",
       "      <th>mean</th>\n",
       "      <td>4.052615</td>\n",
       "    </tr>\n",
       "    <tr>\n",
       "      <th>std</th>\n",
       "      <td>0.314170</td>\n",
       "    </tr>\n",
       "    <tr>\n",
       "      <th>min</th>\n",
       "      <td>0.000000</td>\n",
       "    </tr>\n",
       "    <tr>\n",
       "      <th>25%</th>\n",
       "      <td>3.890000</td>\n",
       "    </tr>\n",
       "    <tr>\n",
       "      <th>50%</th>\n",
       "      <td>4.070000</td>\n",
       "    </tr>\n",
       "    <tr>\n",
       "      <th>75%</th>\n",
       "      <td>4.240000</td>\n",
       "    </tr>\n",
       "    <tr>\n",
       "      <th>max</th>\n",
       "      <td>5.000000</td>\n",
       "    </tr>\n",
       "  </tbody>\n",
       "</table>\n",
       "</div>"
      ],
      "text/plain": [
       "       average_rating\n",
       "count     9996.000000\n",
       "mean         4.052615\n",
       "std          0.314170\n",
       "min          0.000000\n",
       "25%          3.890000\n",
       "50%          4.070000\n",
       "75%          4.240000\n",
       "max          5.000000"
      ]
     },
     "execution_count": 12,
     "metadata": {},
     "output_type": "execute_result"
    }
   ],
   "source": [
    "#getting statistical information related to data\n",
    "data_frame.describe()"
   ]
  },
  {
   "cell_type": "code",
   "execution_count": 13,
   "id": "3c074160-323a-4644-9822-cc95e99fb05d",
   "metadata": {},
   "outputs": [
    {
     "data": {
      "text/html": [
       "<div>\n",
       "<style scoped>\n",
       "    .dataframe tbody tr th:only-of-type {\n",
       "        vertical-align: middle;\n",
       "    }\n",
       "\n",
       "    .dataframe tbody tr th {\n",
       "        vertical-align: top;\n",
       "    }\n",
       "\n",
       "    .dataframe thead th {\n",
       "        text-align: right;\n",
       "    }\n",
       "</style>\n",
       "<table border=\"1\" class=\"dataframe\">\n",
       "  <thead>\n",
       "    <tr style=\"text-align: right;\">\n",
       "      <th></th>\n",
       "      <th>bookTitle</th>\n",
       "      <th>authorName</th>\n",
       "      <th>average_rating</th>\n",
       "      <th>num_ratings</th>\n",
       "    </tr>\n",
       "  </thead>\n",
       "  <tbody>\n",
       "    <tr>\n",
       "      <th>0</th>\n",
       "      <td>False</td>\n",
       "      <td>False</td>\n",
       "      <td>False</td>\n",
       "      <td>False</td>\n",
       "    </tr>\n",
       "    <tr>\n",
       "      <th>1</th>\n",
       "      <td>False</td>\n",
       "      <td>False</td>\n",
       "      <td>False</td>\n",
       "      <td>False</td>\n",
       "    </tr>\n",
       "    <tr>\n",
       "      <th>2</th>\n",
       "      <td>False</td>\n",
       "      <td>False</td>\n",
       "      <td>False</td>\n",
       "      <td>False</td>\n",
       "    </tr>\n",
       "    <tr>\n",
       "      <th>3</th>\n",
       "      <td>False</td>\n",
       "      <td>False</td>\n",
       "      <td>False</td>\n",
       "      <td>False</td>\n",
       "    </tr>\n",
       "    <tr>\n",
       "      <th>4</th>\n",
       "      <td>False</td>\n",
       "      <td>False</td>\n",
       "      <td>False</td>\n",
       "      <td>False</td>\n",
       "    </tr>\n",
       "    <tr>\n",
       "      <th>...</th>\n",
       "      <td>...</td>\n",
       "      <td>...</td>\n",
       "      <td>...</td>\n",
       "      <td>...</td>\n",
       "    </tr>\n",
       "    <tr>\n",
       "      <th>9995</th>\n",
       "      <td>False</td>\n",
       "      <td>False</td>\n",
       "      <td>False</td>\n",
       "      <td>False</td>\n",
       "    </tr>\n",
       "    <tr>\n",
       "      <th>9996</th>\n",
       "      <td>False</td>\n",
       "      <td>False</td>\n",
       "      <td>False</td>\n",
       "      <td>False</td>\n",
       "    </tr>\n",
       "    <tr>\n",
       "      <th>9997</th>\n",
       "      <td>False</td>\n",
       "      <td>False</td>\n",
       "      <td>False</td>\n",
       "      <td>False</td>\n",
       "    </tr>\n",
       "    <tr>\n",
       "      <th>9998</th>\n",
       "      <td>False</td>\n",
       "      <td>False</td>\n",
       "      <td>False</td>\n",
       "      <td>False</td>\n",
       "    </tr>\n",
       "    <tr>\n",
       "      <th>9999</th>\n",
       "      <td>False</td>\n",
       "      <td>False</td>\n",
       "      <td>False</td>\n",
       "      <td>False</td>\n",
       "    </tr>\n",
       "  </tbody>\n",
       "</table>\n",
       "<p>10000 rows × 4 columns</p>\n",
       "</div>"
      ],
      "text/plain": [
       "      bookTitle  authorName  average_rating  num_ratings\n",
       "0         False       False           False        False\n",
       "1         False       False           False        False\n",
       "2         False       False           False        False\n",
       "3         False       False           False        False\n",
       "4         False       False           False        False\n",
       "...         ...         ...             ...          ...\n",
       "9995      False       False           False        False\n",
       "9996      False       False           False        False\n",
       "9997      False       False           False        False\n",
       "9998      False       False           False        False\n",
       "9999      False       False           False        False\n",
       "\n",
       "[10000 rows x 4 columns]"
      ]
     },
     "execution_count": 13,
     "metadata": {},
     "output_type": "execute_result"
    }
   ],
   "source": [
    "#checking for missing values\n",
    "data_frame.isnull()"
   ]
  },
  {
   "cell_type": "code",
   "execution_count": 14,
   "id": "cfa3f1da-d466-4d9a-adfb-6439dbfa8ffc",
   "metadata": {},
   "outputs": [
    {
     "data": {
      "text/plain": [
       "bookTitle         0\n",
       "authorName        0\n",
       "average_rating    4\n",
       "num_ratings       4\n",
       "dtype: int64"
      ]
     },
     "execution_count": 14,
     "metadata": {},
     "output_type": "execute_result"
    }
   ],
   "source": [
    "#Summing up the missing vales\n",
    "data_frame.isnull().sum()"
   ]
  },
  {
   "cell_type": "code",
   "execution_count": 16,
   "id": "f2440154-d073-4217-95b8-4c74a60e1851",
   "metadata": {},
   "outputs": [
    {
     "data": {
      "text/plain": [
       "bookTitle          object\n",
       "authorName         object\n",
       "average_rating    float64\n",
       "num_ratings        object\n",
       "dtype: object"
      ]
     },
     "execution_count": 16,
     "metadata": {},
     "output_type": "execute_result"
    }
   ],
   "source": [
    "#Checking out column names and their data types\n",
    "data_frame.dtypes"
   ]
  },
  {
   "cell_type": "code",
   "execution_count": 19,
   "id": "614f5cb5-df7e-40fe-a4ca-c1f601d390ae",
   "metadata": {},
   "outputs": [
    {
     "name": "stdout",
     "output_type": "stream",
     "text": [
      "\n",
      "Dimensions of DataFrame:\n",
      "Rows: 10000\n",
      "Columns: 4\n"
     ]
    }
   ],
   "source": [
    "#Checking Dimensions i.e no of rows and columns of dataframe\n",
    "dimensions = data_frame.shape\n",
    "print(\"\\nDimensions of DataFrame:\")\n",
    "print(\"Rows:\", dimensions[0])\n",
    "print(\"Columns:\", dimensions[1])"
   ]
  },
  {
   "cell_type": "code",
   "execution_count": 32,
   "id": "11975b8f-8a05-40fc-8b5e-57699aaadeeb",
   "metadata": {},
   "outputs": [],
   "source": [
    "#Lable encoding converting catagorical data into numerical data\n",
    "from sklearn.preprocessing import LabelEncoder\n",
    "\n",
    "# Initialize LabelEncoder\n",
    "label_encoder = LabelEncoder()\n",
    "\n",
    "# Encode the categorical column\n",
    "data_frame['num_ratings'] = label_encoder.fit_transform(data_frame['num_ratings'])\n"
   ]
  },
  {
   "cell_type": "code",
   "execution_count": 33,
   "id": "a8f2bbfd-a5c1-4ceb-be8d-2a5b2b0e4dca",
   "metadata": {},
   "outputs": [
    {
     "data": {
      "text/plain": [
       "bookTitle          object\n",
       "authorName         object\n",
       "average_rating    float64\n",
       "num_ratings         int64\n",
       "dtype: object"
      ]
     },
     "execution_count": 33,
     "metadata": {},
     "output_type": "execute_result"
    }
   ],
   "source": [
    "data_frame.dtypes"
   ]
  },
  {
   "cell_type": "code",
   "execution_count": 34,
   "id": "ab16cec7-91c6-48f6-b440-38bed0fb9ddb",
   "metadata": {},
   "outputs": [
    {
     "data": {
      "text/plain": [
       "bookTitle          object\n",
       "authorName         object\n",
       "average_rating    float64\n",
       "num_ratings       float64\n",
       "dtype: object"
      ]
     },
     "execution_count": 34,
     "metadata": {},
     "output_type": "execute_result"
    }
   ],
   "source": [
    "# converting int into float\n",
    "data_frame['num_ratings']=data_frame['num_ratings'].astype(float)\n",
    "data_frame.dtypes"
   ]
  },
  {
   "cell_type": "code",
   "execution_count": 35,
   "id": "d1463580-a910-4697-997d-fdde0e81c998",
   "metadata": {},
   "outputs": [
    {
     "data": {
      "text/plain": [
       "bookTitle           object\n",
       "authorName          object\n",
       "average_rating    category\n",
       "num_ratings        float64\n",
       "dtype: object"
      ]
     },
     "execution_count": 35,
     "metadata": {},
     "output_type": "execute_result"
    }
   ],
   "source": [
    "#converting float into category\n",
    "data_frame['average_rating']=data_frame['average_rating'].astype('category')\n",
    "data_frame.dtypes"
   ]
  },
  {
   "cell_type": "code",
   "execution_count": 36,
   "id": "a861ea20-c856-4265-b48d-85190ae0e97e",
   "metadata": {},
   "outputs": [
    {
     "data": {
      "text/plain": [
       "bookTitle          object\n",
       "authorName         object\n",
       "average_rating    float64\n",
       "num_ratings       float64\n",
       "dtype: object"
      ]
     },
     "execution_count": 36,
     "metadata": {},
     "output_type": "execute_result"
    }
   ],
   "source": [
    "#converting category into float\n",
    "data_frame['average_rating']=data_frame['average_rating'].astype(float)\n",
    "data_frame.dtypes"
   ]
  },
  {
   "cell_type": "code",
   "execution_count": null,
   "id": "bdcdcb42-6fcf-4c56-931f-63791cb46e18",
   "metadata": {},
   "outputs": [],
   "source": []
  }
 ],
 "metadata": {
  "kernelspec": {
   "display_name": "Python 3 (ipykernel)",
   "language": "python",
   "name": "python3"
  },
  "language_info": {
   "codemirror_mode": {
    "name": "ipython",
    "version": 3
   },
   "file_extension": ".py",
   "mimetype": "text/x-python",
   "name": "python",
   "nbconvert_exporter": "python",
   "pygments_lexer": "ipython3",
   "version": "3.10.8"
  }
 },
 "nbformat": 4,
 "nbformat_minor": 5
}
